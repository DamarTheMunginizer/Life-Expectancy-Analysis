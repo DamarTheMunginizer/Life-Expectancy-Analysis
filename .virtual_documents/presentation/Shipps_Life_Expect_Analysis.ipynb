









































# Code:
import pandas as pd

pd.read_csv("../data/population.csv")


def mean(n): # Write a function that takes in values and returns the mean of the values. 
    return sum(n) / len(n)

numbers = [num for num in range(1,12)] # Create a list of numbers that you test on your function to check to make sure your function works!
numbers


mean(numbers) # Test on your function to check to make sure your function works!





def sd(n):
    m = 0
    for i in n:
        m += (i - mean(n)) **2
    return (m / len(n))**.05


sd(numbers)





def str_to_int(value):
    if isinstance(value, (int, float)):
        return value
    if isinstance(value, str):  
        if 'k' in value:
            return int(value.replace('k', '')) * 1000
        elif 'M' in value:
            return int(value.replace ('M', '')) * 1000000
        else:
            return int(value)

    return value



print(str_to_int('45k'))
print(str_to_int('50M'))








import numpy as np
import matplotlib.pyplot as plt
import seaborn as sns








# For each row remove the semi-colon and the data will populate I put this here to suppress the data. Reminder to remove when finish.


# 0. Import dataset


life_df = pd.read_csv('../data/life_expectancy.csv')


pop_df = pd.read_csv("../data/population.csv")





# check the first five rows
display(life_df.head())
display(pop_df.head())


life_df.info





life_df.isnull().sum()


pop_df.isnull().sum()





print(life_df.country.unique())


print(life_df.country.value_counts());


print(life_df[life_df.duplicated()])


print(pop_df.country.unique())


print(pop_df.country.value_counts());


print(pop_df[pop_df.duplicated()])


life_df[(life_df['country'] == 'Guyana')]





life_df_ud= life_df.fillna('N/A')


life_df_ud


pop_df_ud = pop_df.fillna('N/A')


pop_df_ud





pop_df_ud.dtypes


life_df_ud.dtypes





def str_to_inte(value):
    if isinstance(value, (int, float)):
        return value
    if isinstance(value, str):  
        if 'k' in value:
            return int(value.replace('k', '')) * 1000
        elif 'M' in value:
            return int(value.replace ('M', '')) * 1000000
        else:
            return int(value)

    return value


life_df_ud[life_df_ud.columns[1:]] = life_df_ud[life_df_ud.columns[1:]].apply(str_to_inte)


life_df_ud


def str_to_int(value):
    if isinstance(value, (int, float)):
        return value
    if isinstance(value, str):
        if value in ['N/A', 'None', '']:
            return float('nan') 
        if 'k' in value:
            return float(value.replace('k', '')) * 1000
        elif 'M' in value:
            return float(value.replace('M', '')) * 1000000
        elif 'B' in value:
            return float(value.replace('B', '')) * 1000000000
        else:
            return float(value)

    return float('nan')


pop_df_ud[pop_df_ud.columns[1:]] = pop_df_ud[pop_df_ud.columns[1:]].map(str_to_int)


pop_df_ud





life_df_ud.columns = life_df_ud.columns.str.lower()


life_df_ud.columns


life_cleaned = pd.melt(life_df_ud, id_vars=['country'], var_name='year', value_name = 'life_expectancy')
life_cleaned 


pop_df_ud.columns = pop_df_ud.columns.str.lower()


pop_df_ud.columns


pop_cleaned = pd.melt(pop_df_ud, id_vars=['country'], var_name='year', value_name = 'population')
pop_cleaned





life_cleand = life_cleaned.dropna()


life_cleand.isnull().sum()


pop_cleand = pop_cleaned.dropna() # dropped all values that were null


pop_cleand.isnull().sum()





pop_life_df = pd.merge(life_cleand, pop_cleand)


pop_life_df.T


pop_life_df





life_cleand.to_csv('life_cleaned.csv')


pop_cleand.to_csv('pop_cleaned.csv')


pop_life_df.to_csv('merged_pop_life.csv')








pop_life_df.dtypes











poplife_dict = pop_life_df.to_dict(orient = "index")


poplife_dict


poplife = pd.DataFrame.from_dict(poplife_dict, orient = 'index')


poplife['life_expectancy'] = pd.to_numeric(poplife['life_expectancy'], errors='coerce')
sd ={ year: poplife[poplife['year'] == year]['life_expectancy'].std()
    for year in poplife['year'].unique()
}
sd








pop_life_df['year'] = pop_life_df['year'].astype(int)
last_decade = pop_life_df[(pop_life_df['year'] >= 2013) & (pop_life_df['year'] <= 2024)]

highest_pop = last_decade.loc[last_decade.groupby('year')['population'].idxmax()]
lowest_population = last_decade.loc[last_decade.groupby('year')['population'].idxmin()]


print("The highest population belongs too...")
print(highest_pop[['country', 'year','population']])





pop_life_df.head()


new_countries = pop_life_df.groupby('country')['year'].min().reset_index()
newly = {}

for index, n in new_countries.iterrows():
    if n['year'] != 1800:
        newly.append(n)

newly_df = pd.DataFrame(newly)
print(newly_df)





dfpop_cleaned = pop_life_df.dropna(subset=['population'])


dfpop_cleaned['year'] = pd.to_numeric(dfpop_cleaned['year'])
dfpop_cleaned['population'] = pd.to_numeric(dfpop_cleaned['population'])


pop_growth = dfpop_cleaned.groupby('country').agg(
    start_population=('population', lambda x: x.iloc[0]),
    end_population=('population', lambda x: x.iloc[-1])
).reset_index()


pop_growth['growth'] = pop_growth['end_population'] - pop_growth['start_population']
lowest_growth = pop_growth.sort_values(by='growth').reset_index(drop=True)


print(lowest_growth[['country', 'start_population', 'end_population', 'growth']])


print("The country with the lowest growth is Holy See while the highest growth was India")











numeric_df = pop_life_df.select_dtypes(include='number')
correlation = numeric_df.corr()


plt.figure(figsize=(15, 5))
sns.heatmap(
    correlation,
    annot=True,           
    fmt=".2f",            
    cmap="coolwarm",      
    center=0,             
    square=True,          
    linewidths=0.5,        
)

plt.title("Correlation of the Numeric Features", fontsize=16, weight='bold')
plt.tight_layout()  

plt.show()





pop_life_df.head()


pop_life_df.iloc[2,3]
pop_life_df.head()

pldf = pop_life_df.dropna(subset=['population'])


pldf['life_expectancy'] = pd.to_numeric(pldf['life_expectancy'], errors='coerce')

plt.figure(figsize=(12, 6))
plt.hist(pldf['life_expectancy'], bins=20, color='red', edgecolor='black', alpha=0.7)
plt.title("Distribution of Life Expectancy", fontsize=16, fontweight='bold')
plt.xlabel("Life Expectancy (years)", fontsize=14)
plt.ylabel("population", fontsize=14)
plt.xticks(fontsize=12)
plt.yticks(fontsize=12)
plt.show()



numeric_columns = ['life_expectancy', 'population']

for column in numeric_columns:
    plt.figure(figsize=(15, 5))
    plt.hist(pldf[column], bins=10, color='red', edgecolor='black', alpha=0.7)
    plt.title(f"Distribution of {column.replace('_', ' ').title()}", fontsize=16, fontweight='bold')
    plt.xlabel(f"{column.replace('_', ' ').title()}", fontsize=14)
    plt.ylabel("Volume", fontsize=14)
    plt.xticks(fontsize=12)
    plt.yticks(fontsize=12)
    plt.show()





pldf.loc[:, 'life_expectancy'] = pd.to_numeric(pldf['life_expectancy'], errors='coerce')

dplf = pldf.dropna(subset=['life_expectancy', 'population'])


numeric_columns = ['life_expectancy', 'population']

# Create a figure for both plots
fig, axes = plt.subplots(nrows=len(numeric_columns), ncols=2, figsize=(14, 6 * len(numeric_columns)))

for i, column in enumerate(numeric_columns):
    axes[i, 1].boxplot(dplf[column], vert=False, patch_artist=True, boxprops=dict(facecolor='red'))
    axes[i, 1].set_title(f"Boxplot of {column.replace('_', ' ')}", fontsize=16, fontweight='bold')
    axes[i, 1].set_xlabel(f"{column.replace('_', ' ').title()}", fontsize=14)
    axes[i, 1].tick_params(axis='both', labelsize=12)





plt.figure(figsize=(10, 6))
plt.scatter(pldf['life_expectancy'], pldf['population'], color='blue', alpha=0.7)

# Add titles and labels
plt.title("Scatter Plot of Life Expectancy vs. Population", fontsize=16, fontweight='bold')
plt.xlabel("Life Expectancy (years)", fontsize=14)
plt.ylabel("Population (exponential notation)", fontsize=14)

# Customize tick labels for better readability
plt.xticks(fontsize=12)
plt.yticks(fontsize=12);





pldf.loc[:, 'life_expectancy'] = pd.to_numeric(pldf['life_expectancy'], errors='coerce')
pldf = pldf.dropna(subset=['life_expectancy', 'population'])
lowest_population_country = dfp.loc[dfp['population'].idxmin()]
highest_population_country = dfp.loc[dfp['population'].idxmax()]


# Prepare data for plotting
countries = [lowest_population_country['country'], highest_population_country['country']]
populations = [lowest_population_country['population'], highest_population_country['population']]
life_expectancies = [lowest_population_country['life_expectancy'], highest_population_country['life_expectancy']]

# Create scatter plot
plt.figure(figsize=(10, 6))

plt.scatter(life_expectancies, populations, color='skyblue', s=100, edgecolor='black')

# Annotate points with country names
for i, country in enumerate(countries):
    plt.annotate(country, (life_expectancies[i], populations[i]), textcoords="offset points", xytext=(0,10), ha='center')

# Add titles and labels
plt.title("Life Expectancy vs Population Size (2020)", fontsize=16, fontweight='bold')
plt.xlabel("Life Expectancy (years)", fontsize=14)
plt.ylabel("Population Size", fontsize=14)
plt.xticks(fontsize=12)
plt.yticks(fontsize=12)
plt.grid(alpha=0.75)

# Show the plot
plt.tight_layout()
plt.show()


plt.figure(figsize=(10, 6))

# Plot life expectancy
plt.plot(countries, life_expectancies, marker='o', linestyle='-', color='skyblue', label='Life Expectancy (years)', linewidth=2)

# Plot population
plt.plot(countries, populations, marker='o', linestyle='-', color='lightgreen', label='Population Size', linewidth=2)

# Add titles and labels
plt.title("Life Expectancy and Population Size (2020)", fontsize=16, fontweight='bold')
plt.xlabel("Countries", fontsize=14)
plt.ylabel("Value", fontsize=14)
plt.xticks(fontsize=12)
plt.yticks(fontsize=12)
plt.grid(axis='y', alpha=0.75)
plt.legend()

# Show the plot
plt.tight_layout()
plt.show()















